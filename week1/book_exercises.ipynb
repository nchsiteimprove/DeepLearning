{
 "cells": [
  {
   "cell_type": "markdown",
   "metadata": {},
   "source": [
    "# Book Exercises\n",
    "## 1) Verify that $σ′(z)=σ(z)(1−σ(z))$ from Chapter 3:\n",
    "Omitted $(z)$ for brevity\n",
    "\n",
    "$\\sigma' = (\\frac{1}{1 + e^{-z}})'$\n",
    "\n",
    "$\\Rightarrow \\sigma' = -\\frac{(1 + e^{-z})'}{(1 + e^{-z})^2}$ Using reciprocal rule\n",
    "\n",
    "$\\Rightarrow \\sigma' = -\\frac{-e^{-z}}{(1 + e^{-z})^2}$ Using exponential rule\n",
    "\n",
    "$\\Rightarrow \\sigma' = \\frac{e^{-z}}{(1 + e^{-z})^2}$\n",
    "\n",
    "$\\Rightarrow \\sigma' = \\frac{1+e^{-z}-1}{(1 + e^{-z})^2}$\n",
    "\n",
    "$\\Rightarrow \\sigma' = \\frac{1+e^{-z}}{(1 + e^{-z})^2}- \\frac{1}{(1 + e^{-z})^2}$\n",
    "\n",
    "$\\Rightarrow \\sigma' = \\frac{1}{1 + e^{-z}}- \\frac{1}{(1 + e^{-z})^2}$\n",
    "\n",
    "$\\Rightarrow \\sigma' =  \\frac{1}{1 + e^{-z}}- \\frac{1}{1 + e^{-z}}\\cdot \\frac{1}{1 + e^{-z}}$\n",
    "\n",
    "$\\Rightarrow \\sigma' = \\sigma - \\sigma\\cdot \\sigma$\n",
    "\n",
    "$\\Rightarrow \\sigma' = \\sigma \\cdot(1 - \\sigma)$\n",
    "\n",
    "\n",
    "## 2) One gotcha with the cross-entropy is that it can be difficult at first to remember the respective roles of the yys and the aas. from Chapter 3\n",
    "\n",
    "Looking at $−[a \\ln y+(1−a)\\ln(1−y)]$ when y = 0:\n",
    "\n",
    "The second part of the expression simply becomes 0 as $\\ln(1)=0$.\n",
    "\n",
    "The first part of the expression is more problematic as: $$\\lim_{x\\to 0}\\ln x \\rightarrow -\\infty$$ \n",
    "meaning the expression will simply explode.\n",
    "\n",
    "If y = 1 the effects of the two parts of the expression are reversed.\n",
    "\n",
    "The expression $−[y\\ ln a+(1−y)\\ln(1−a)]−[y\\ln ⁡a+(1−y)\\ln⁡(1−a)] $ does not have this problem as the logarithmic value of y is never used. Instead it is directly used to select which part of the expression will be evaluated (the other part will be 0). Barring that the network is 100% wrong we will never have the case of $a=0$, which means that we will never take the logarithm of 0.\n",
    "\n",
    "## 3) Sigmoid neurons simulating perceptrons, part I from Chapter 1\n",
    "The output of a perceptron comes from comparing $w\\cdot x + b$, or $z$ to 0. Multiplying all weights and biases means we instead have:\n",
    "$c\\cdot w\\cdot x + c\\cdot b \\Rightarrow c(w\\cdot x + b) \\Rightarrow c\\cdot z$\n",
    "\n",
    "If $z$ was previously below, or above, or exactly 0, then multiplying it with a positive constant cannot change that.\n",
    "\n",
    "## 4) Sigmoid neurons simulating perceptrons, part II  from Chapter 1\n",
    "If we have $c\\cdot z = z'$, then $z' \\rightarrow \\infty/-\\infty$ (depending on $z$) as $c \\rightarrow \\infty$, in which case the sigmoid neurons will behave like perceptrons. But if $z=0$ then increasing $c$ will not change $z'$, and a perceptron cannot be simulated.\n",
    "\n",
    "## 5) An extreme version of gradient descent is to use a mini-batch size of just 1. from Chapter 1\n",
    "**Advantage:** If you have a real-time system able to perceive its surroundings which needs to adjust its behaviour on the fly, e.g. a self-driving car, then you can use online learning (mini-batch size of 1) to allow the network to constantly adapt to changes in the environment by generating training data one example at a time. \n",
    "\n",
    "**Disadvantage:** Using a single training example at a time means that the network becomes extremely sensitive to \"bad\" training data, which might increase training time and/or have the network decrease in performance until it has seen enough \"good\" examples to steer it in the right direction."
   ]
  },
  {
   "cell_type": "code",
   "execution_count": null,
   "metadata": {
    "collapsed": true
   },
   "outputs": [],
   "source": []
  }
 ],
 "metadata": {
  "kernelspec": {
   "display_name": "Python [Root]",
   "language": "python",
   "name": "Python [Root]"
  },
  "language_info": {
   "codemirror_mode": {
    "name": "ipython",
    "version": 2
   },
   "file_extension": ".py",
   "mimetype": "text/x-python",
   "name": "python",
   "nbconvert_exporter": "python",
   "pygments_lexer": "ipython2",
   "version": "2.7.12"
  }
 },
 "nbformat": 4,
 "nbformat_minor": 0
}
