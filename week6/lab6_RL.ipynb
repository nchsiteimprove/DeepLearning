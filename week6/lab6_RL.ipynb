{
 "cells": [
  {
   "cell_type": "markdown",
   "metadata": {},
   "source": [
    "# Reinforcement Learning Exercise\n",
    "\n",
    "For this exercise we will be using the [OpenAI Gym](https://gym.openai.com/) provided by [OpenAI](https://openai.com/). To get to know Gym, you are encouraged to read this [blogpost](https://openai.com/blog/openai-gym-beta/) (~10 minutes) and refer to the [docs](https://gym.openai.com/docs) along the way.\n",
    "\n",
    "In this exercise we will train a neural network agent to navigate various environments from the OpenAI Gym.\n",
    "\n",
    "## 0. Prerequisites\n",
    "\n",
    "We assume you already have Theano and Lasagne installed -- otherwise go back to the first exercise for instructions. \n",
    "\n",
    "Below is a brief guide on how to install OpenAI Gym. For more details please refer to the [docs](https://gym.openai.com/docs).\n",
    "   \n",
    "```\n",
    "$ cd ~/path/to/dir/...\n",
    "$ git clone https://github.com/openai/gym\n",
    "$ cd gym\n",
    "$ pip install -e . # minimal install\n",
    "```\n",
    "\n",
    "Verify your installation is working by importing `gym` and check for errors:\n",
    "\n",
    "```\n",
    "$ python\n",
    ">>> import gym\n",
    "[no errors]\n",
    "```\n",
    "\n",
    "Now restart this notebook before moving on to the next part."
   ]
  },
  {
   "cell_type": "markdown",
   "metadata": {},
   "source": [
    "## 1. Getting started\n",
    "\n",
    "Now that you have everythong installed, lets get started!\n",
    "\n",
    "The code below will import `gym` and initialize the [CartPole-v0](https://gym.openai.com/envs/CartPole-v0) environment. The task of this environment is to move a cart in order to balance a pole attached on top, but for now we will just take random actions for 200 timesteps to see what happens. The environment is rendered in a separate window so you can observe the result. "
   ]
  },
  {
   "cell_type": "code",
   "execution_count": 1,
   "metadata": {
    "collapsed": false
   },
   "outputs": [
    {
     "name": "stderr",
     "output_type": "stream",
     "text": [
      "[2016-10-10 09:46:26,642] Making new env: CartPole-v0\n",
      "[2016-10-10 09:46:27,536] You are calling 'step()' even though this environment has already returned done = True. You should always call 'reset()' once you receive 'done = True' -- any further steps are undefined behavior.\n"
     ]
    }
   ],
   "source": [
    "import gym\n",
    "import time\n",
    "\n",
    "# init and run an example environment\n",
    "env = gym.make('CartPole-v0')\n",
    "env.reset()\n",
    "for _ in range(200):\n",
    "    env.render()\n",
    "    env.step(env.action_space.sample())\n",
    "    time.sleep(0.05) ### Needed to slow things down to see what happens\n",
    "env.render(close=True)"
   ]
  },
  {
   "cell_type": "markdown",
   "metadata": {},
   "source": [
    "That was all very nice, but taking random actions doesn't really solve the task. We have to do something smarter. In the next part we will train an agent to solve the task by reinforcement learning."
   ]
  },
  {
   "cell_type": "markdown",
   "metadata": {},
   "source": [
    "## 2. Policy gradient agent\n",
    "\n",
    "In this part we will create an agent that can learn to solve tasks from OpenAI Gym by applying the policy gradient method.\n",
    "\n",
    "The agent is designed to work on environments with a discrete action space. Extending the code to also handle environments with countinous action space is left as an optional exercise.\n",
    "\n",
    "But first here is a short introduction to policy gradients.\n",
    "\n",
    "### Policy gradients\n",
    "\n",
    "We want to learn a policy neural network $p_\\theta(a_{t}|s_{t-1})$ with parameters $\\theta$ for action $a_t$ given the previous state $s_{t-1}$ only.\n",
    "When the action $a$ is discrete we can implement this by a softmax output taking $s$ as input. \n",
    "The (discounted) cumulative award for a sequence terminating after $T$ time-steps is\n",
    "\n",
    "$$\n",
    "R = \\sum_{t=1}^T \\gamma^{t-1} r_{t} \\ .\n",
    "$$\n",
    "\n",
    "The expectation of $R$ over a\n",
    "policy roll-out $p_\\theta({\\bf a}|{\\bf s})$ is \n",
    "\n",
    "$$\n",
    "\\mathbb{E}[R|\\theta] = \\int R({\\bf a},{\\bf s}) p_\\theta({\\bf a},{\\bf s}) d{\\bf a} d{\\bf s}\\ ,\n",
    "$$\n",
    "\n",
    "where ${\\bf a} = a_1,\\ldots,a_T$, ${\\bf s}=s_0,\\ldots,s_T$ and\n",
    "\n",
    "$$\n",
    "p_\\theta({\\bf a},{\\bf s}) = p(s_0) \\prod_{t=1}^T \\left[ \n",
    "p(s_{t}|s_{t-1},a_t) p_\\theta(a_{t}|s_{t-1})\n",
    "\\right]\\ .\n",
    "$$\n",
    "\n",
    "In this formulation $s_t$ is a stochastic function of the previous action and state: $p(s_t|a_t,s_{t-1})$. We can draw from the joint distribution of actions and states through the environment but $p(s_t|a_t,s_{t-1})$ is unknown. \n",
    "\n",
    "A deterministic environment, think chess or go, is a special case of this set-up where the state is a deterministic function of the previous state and action: $s_t = f(a_t,s_{t-1})$. We can include the deterministic formulation in the general by using a Dirac $\\delta$-function: $p(s_t|a_t,s_{t-1})= \\delta(s_t - f(a_t,s_{t-1}))$. The integration over $s_1,\\ldots,s_T$ may be carried out explicitly:    \n",
    "\n",
    "$$\n",
    "\\mathbb{E}[R|\\theta] = \\int R({\\bf a},s_0) p(s_0) \\prod_{t=1}^T  p_\\theta(a_{t}|s_{t-1})d{\\bf a} ds_0\\ ,\n",
    "$$\n",
    "\n",
    "where $s_{t-1}=f(a_{t-1},s_{t-2})$.\n",
    "\n",
    "We use gradient ascent to learn an approximation to a policy that maximizes the cumulative reward. \n",
    "So we need to compute the gradient:\n",
    "\n",
    "$$\n",
    "\\nabla_\\theta \\mathbb{E}[R|\\theta] = \\int R({\\bf a}, {\\bf s}) \\nabla_\\theta p_\\theta({\\bf a},{\\bf s}) \\, d{\\bf a}d{\\bf s} \\ .\n",
    "$$\n",
    "\n",
    "We can now use the identity\n",
    "\n",
    "$$\n",
    "\\nabla_\\theta p_\\theta({\\bf a},{\\bf s}) = p_\\theta({\\bf a},{\\bf s}) \\nabla_\\theta \\log p_\\theta({\\bf a},{\\bf s})\n",
    "$$\n",
    "\n",
    "to express the gradient as an average over $p_\\theta({\\bf a},{\\bf s})$:\n",
    "\n",
    "$$\n",
    "\\nabla_\\theta \\mathbb{E}[R|\\theta] = \\int p_\\theta({\\bf a},{\\bf s}) ( R({\\bf a}, {\\bf s}) - b ) \\nabla_\\theta \\log p_\\theta({\\bf a},{\\bf s}) d{\\bf a}d{\\bf s}\\ .\n",
    "$$\n",
    "\n",
    "The constant factor $b$ will not affect the gradient but will needed in practice when we estimate gradients by Monte Carlo (that is roll-outs). We can prove that subtracting $b$ will not change the gradient by using the identity from above again:\n",
    "\n",
    "\\begin{align*}\n",
    "0 & = \\nabla_\\theta 1 \\\\\n",
    "  & = \\nabla_\\theta \\int p_\\theta({\\bf a},{\\bf s}) \\, d{\\bf a} d{\\bf s}\\\\\n",
    "  & = \\int \\nabla_\\theta p_\\theta({\\bf a},{\\bf s}) \\, d{\\bf a}d{\\bf s}\\\\\n",
    "  & = \\int p_\\theta({\\bf a},{\\bf s}) \\nabla_\\theta \\log p_\\theta({\\bf a},{\\bf s}) \\, d{\\bf a}d{\\bf s} \\ .\n",
    "\\end{align*}\n",
    "\n",
    "We cannot evaluate the average over roll-outs analytically but we have an environment simulator that when supplied with our current policy $p_\\theta(a|s)$ can return the sequence of action, states and rewards. This allows us to replace the integral by a Monte Carlo average over $V$ roll-outs\n",
    "\n",
    "$$\n",
    "\\nabla_\\theta \\mathbb{E}[R|\\theta] \\approx \\frac{1}{V} \\sum_{v=1}^V ( R({\\bf a}^{(v)}, {\\bf s}^{(v)}) - b) \\nabla_\\theta \\log p_\\theta({\\bf a}^{(v)},{\\bf s}^{(v)})\n",
    "$$\n",
    "\n",
    "Note also that the gradient of $\\log p_\\theta({\\bf a}^{(v)},{\\bf s}^{(v)})$ does not depend explicitly on the state distribution:\n",
    "\n",
    "$$\n",
    "\\nabla_\\theta \\log p_\\theta({\\bf a}^{(v)},{\\bf s}^{(v)}) = \\sum_{t=1}^T \\nabla_\\theta \\log p_\\theta(a_{t}|s_{t-1}) \\ .\n",
    "$$\n",
    "\n",
    "We are almost done. As a last step we will use the freedom in the choice of $b$ to select a $b$ that will make the Monte Carlo estimate of the gradient have the lowest possible variance. In other words, the finite Monte Carlo sample give us a noisy gradient and by this correction we can make it vary as little as possible between roll-out draws.\n",
    "\n",
    "The $b$ that minimizes the variances can be found from minimizing the following expression:\n",
    "\n",
    "$$\n",
    "\\int p_\\theta({\\bf a},{\\bf s}) \\, ( R({\\bf a}, {\\bf s}) - b )^2 \\,  |\\nabla_\\theta \\log p_\\theta({\\bf a},{\\bf s})|^2 \\,  d{\\bf a}d{\\bf s} - \\left( \\nabla_\\theta \\mathbb{E}[R|\\theta] \\right)^2 \\ .\n",
    "$$\n",
    "\n",
    "The solution to this problem is\n",
    "\n",
    "$$\n",
    "b = \\frac{\\int p_\\theta({\\bf a},{\\bf s}) \\, R({\\bf a}, {\\bf s}) \\,  |\\nabla_\\theta \\log p_\\theta({\\bf a},{\\bf s})|^2 d{\\bf a}d{\\bf s}}{\\int p_\\theta({\\bf a},{\\bf s}) \\, |\\nabla_\\theta \\log p_\\theta({\\bf a},{\\bf s})|^2 d{\\bf a}d{\\bf s}} \\ .\n",
    "$$\n",
    "\n",
    "We replace this expression by a Monte Carlo average:\n",
    "\n",
    "$$\n",
    "b = \\frac{\\sum_{v=1}^V  R({\\bf a}^{(v)}, {\\bf s}^{(v)}) \\, |\\nabla_\\theta \\log p_\\theta({\\bf a}^{(v)},{\\bf s}^{(v)})|^2}{\\sum_{v=1}^V | \\nabla_\\theta \\log p_\\theta({\\bf a}^{(v)},{\\bf s}^{(v)})|^2}\n",
    "$$\n",
    "\n",
    "In the code below we instead use a time-step dependent baseline correction, $b(s_t)$, as described in [here](https://gym.openai.com/docs/rl#policy-gradients)."
   ]
  },
  {
   "cell_type": "code",
   "execution_count": 20,
   "metadata": {
    "collapsed": false
   },
   "outputs": [],
   "source": [
    "%matplotlib inline\n",
    "import matplotlib.pyplot as plt\n",
    "import numpy as np\n",
    "import theano\n",
    "import theano.tensor as T\n",
    "import lasagne\n",
    "from lasagne.layers import InputLayer, DenseLayer, DropoutLayer\n",
    "from lasagne.nonlinearities import tanh, softmax"
   ]
  },
  {
   "cell_type": "code",
   "execution_count": 95,
   "metadata": {
    "collapsed": false
   },
   "outputs": [],
   "source": [
    "class Agent(object):\n",
    "    \"\"\"\n",
    "    Reinforcement Learning Agent\n",
    "    \n",
    "    This agent can learn to solve reinforcement learning tasks from\n",
    "    OpenAI Gym by applying the policy gradient method.\n",
    "    \"\"\"\n",
    "\n",
    "    def __init__(self, n_inputs, n_outputs):\n",
    "        # symbolic variables for state, action, and advantage\n",
    "        sym_state = T.fmatrix()\n",
    "        sym_action = T.ivector()\n",
    "        sym_advantage = T.fvector()\n",
    "        # policy network\n",
    "        n_units = 20 #Default = 20\n",
    "        l_in = InputLayer(shape=(None, n_inputs))\n",
    "        l_hid = DenseLayer(incoming=l_in, num_units=n_units, nonlinearity=tanh, name='hiddenlayer')\n",
    "        l_drop = DropoutLayer(incoming=l_hid)\n",
    "        l_hid2 = DenseLayer(incoming=l_drop, num_units=n_units, nonlinearity=tanh, name='hiddenlayer2')\n",
    "        l_drop2 = DropoutLayer(incoming=l_hid2)\n",
    "#         l_hid3 = DenseLayer(incoming=l_drop2, num_units=n_units, nonlinearity=tanh, name='hiddenlayer3')\n",
    "#         l_drop3 = DropoutLayer(incoming=l_hid3)\n",
    "#         l_hid4 = DenseLayer(incoming=l_drop3, num_units=n_units, nonlinearity=tanh, name='hiddenlayer4')\n",
    "#         l_drop4 = DropoutLayer(incoming=l_hid4)\n",
    "        l_out = DenseLayer(incoming=l_drop2, num_units=n_outputs, nonlinearity=softmax, name='outputlayer')\n",
    "        # get network output\n",
    "        eval_out = lasagne.layers.get_output(l_out, {l_in: sym_state}, deterministic=True)\n",
    "        # get trainable parameters in the network.\n",
    "        params = lasagne.layers.get_all_params(l_out, trainable=True)\n",
    "        # get total number of timesteps\n",
    "        t_total = sym_state.shape[0]\n",
    "        # loss function that we'll differentiate to get the policy gradient\n",
    "        loss = -T.log(eval_out[T.arange(t_total), sym_action]).dot(sym_advantage) / t_total\n",
    "        # learning_rate\n",
    "        learning_rate = T.fscalar()\n",
    "        # get gradients\n",
    "        grads = T.grad(loss, params)\n",
    "        # update function\n",
    "        ### Changed from sgd\n",
    "        updates = lasagne.updates.adam(grads, params, learning_rate=learning_rate)\n",
    "        # declare training and evaluation functions\n",
    "        self.f_train = theano.function([sym_state, sym_action, sym_advantage, learning_rate], loss, updates=updates, allow_input_downcast=True)\n",
    "        self.f_eval = theano.function([sym_state], eval_out, allow_input_downcast=True)\n",
    "    \n",
    "    def learn(self, env, n_epochs=100, t_per_batch=10000, traj_t_limit=None,\n",
    "              learning_rate=0.1, discount_factor=1.0, n_early_stop=0):\n",
    "        \"\"\"\n",
    "        Learn the given environment by the policy gradient method.\n",
    "        \"\"\"\n",
    "        self.mean_train_rs = []\n",
    "        self.mean_val_rs = []\n",
    "        self.loss = []\n",
    "        for epoch in xrange(n_epochs):\n",
    "            # 1. collect trajectories until we have at least t_per_batch total timesteps\n",
    "            ### Generate training data by simulating trajectories. \n",
    "            ### The length of each trajectory is the number of timesteps \n",
    "            ### the agent suceeds in balancing the pole.\n",
    "            ### t_total timesteps are simulated in total.\n",
    "            trajs = []; t_total = 0\n",
    "            while t_total < t_per_batch:\n",
    "                traj = self.get_trajectory(env, traj_t_limit, deterministic=False)\n",
    "                trajs.append(traj)\n",
    "                t_total += len(traj[\"r\"])\n",
    "            all_s = np.concatenate([traj[\"s\"] for traj in trajs])\n",
    "            # 2. compute cumulative discounted rewards (returns)\n",
    "            ### Compute the cumulative discount for the trajectories \n",
    "            ### created above. Note: the implementation is not the same\n",
    "            ### as the formula at the top of the notebook, but it has\n",
    "            ### the same behaviour. \n",
    "            ### Pad all but the longest trajectory with 0's to represent\n",
    "            ### timesteps where the pole is no longer upright.\n",
    "            rets = [self._cumulative_discount(traj[\"r\"], discount_factor) for traj in trajs]\n",
    "            maxlen = max(len(ret) for ret in rets)\n",
    "            padded_rets = [np.concatenate([ret, np.zeros(maxlen-len(ret))]) for ret in rets]\n",
    "            # 3. compute time-dependent baseline\n",
    "            ### Calculate the mean for each timestep. Used later\n",
    "            ### to determine which timesteps are good (above the mean).\n",
    "            baseline = np.mean(padded_rets, axis=0)\n",
    "            # 4. compute advantages\n",
    "            ### Calculate advantages, which are indicators of how good\n",
    "            ### each move at a certain timestep is compared to the mean.\n",
    "            ### Also flatten advs (along with states and actions) \n",
    "            ### to be able to feed them to the network.\n",
    "            advs = [ret - baseline[:len(ret)] for ret in rets]\n",
    "            all_a = np.concatenate([traj[\"a\"] for traj in trajs])\n",
    "            all_adv = np.concatenate(advs)\n",
    "            # 5. do policy gradient update step\n",
    "            ### Train the network and calculate the loss using the loss function defined earlier\n",
    "            loss = self.f_train(all_s, all_a, all_adv, learning_rate)\n",
    "            train_rs = np.array([traj[\"r\"].sum() for traj in trajs]) # trajectory total rewards\n",
    "            ### Not used...\n",
    "            eplens = np.array([len(traj[\"r\"]) for traj in trajs]) # trajectory lengths\n",
    "            # compute validation reward\n",
    "            ### Validate the network on 10 deterministic simulations (take best action each step).\n",
    "            ### We need 10 simulations because the start state is random. We use the mean as valid score\n",
    "            val_rs = np.array([self.get_trajectory(env, traj_t_limit, deterministic=True)['r'].sum() for _ in range(10)])\n",
    "            # update stats\n",
    "            self.mean_train_rs.append(train_rs.mean())\n",
    "            self.mean_val_rs.append(val_rs.mean())\n",
    "            self.loss.append(loss)\n",
    "            # print stats\n",
    "            print '%3d mean_train_r: %6.2f mean_val_r: %6.2f loss: %f' % (epoch+1, train_rs.mean(), val_rs.mean(), loss)\n",
    "            # render solution\n",
    "            #self.get_trajectory(env, traj_t_limit, render=True)\n",
    "            # check for early stopping: true if the validation reward has not changed in n_early_stop epochs\n",
    "            if n_early_stop and len(self.mean_val_rs) >= n_early_stop and \\\n",
    "                all([x == self.mean_val_rs[-1] for x in self.mean_val_rs[-n_early_stop:-1]]):\n",
    "                break\n",
    "    \n",
    "    def get_trajectory(self, env, t_limit=None, render=False, deterministic=True):\n",
    "        \"\"\"\n",
    "        Compute trajectroy by iteratively evaluating the agent policy on the environment.\n",
    "        \"\"\"\n",
    "        t_limit = t_limit or env.spec.timestep_limit\n",
    "        s = env.reset()\n",
    "        traj = {'s': [], 'a': [], 'r': [],}\n",
    "        for _ in xrange(t_limit):\n",
    "            a = self.get_action(s, deterministic)\n",
    "            (s, r, done, _) = env.step(a)\n",
    "            traj['s'].append(s)\n",
    "            traj['a'].append(a)\n",
    "            traj['r'].append(r)\n",
    "            if render: \n",
    "                import time\n",
    "                time.sleep(0.07)\n",
    "                env.render()\n",
    "            if done: break\n",
    "        return {'s': np.array(traj['s']), 'a': np.array(traj['a']), 'r': np.array(traj['r'])}\n",
    "    \n",
    "    def get_action(self, s, deterministic=True):\n",
    "        \"\"\"\n",
    "        Evaluate the agent policy to choose an action, a, given state, s.\n",
    "        \"\"\"\n",
    "        # compute action probabilities\n",
    "        prob_a = self.f_eval(s.reshape(1,-1))\n",
    "        if deterministic:\n",
    "            # choose action with highest probability\n",
    "            return prob_a.argmax()\n",
    "        else:\n",
    "            # sample action from distribution\n",
    "            return (np.cumsum(np.asarray(prob_a)) > np.random.rand()).argmax()\n",
    "    \n",
    "    def _cumulative_discount(self, r, gamma):\n",
    "        \"\"\"\n",
    "        Compute the cumulative discounted rewards (returns).\n",
    "        \"\"\"\n",
    "        r_out = np.zeros(len(r), 'float64')\n",
    "        r_out[-1] = r[-1]\n",
    "        for i in reversed(xrange(len(r)-1)):\n",
    "            r_out[i] = r[i] + gamma * r_out[i+1]\n",
    "        return r_out"
   ]
  },
  {
   "cell_type": "markdown",
   "metadata": {},
   "source": [
    "Now that we have an agent, let's train it to solve the CartPole task.\n",
    "\n",
    "Note: The agent is not guaranteed to learn a good solution every time as the policy gradient method might get stuck in a local optimum -- you may have to do several restarts to find a good solution."
   ]
  },
  {
   "cell_type": "code",
   "execution_count": 96,
   "metadata": {
    "collapsed": false,
    "scrolled": true
   },
   "outputs": [
    {
     "name": "stderr",
     "output_type": "stream",
     "text": [
      "[2016-10-10 12:47:05,504] Making new env: CartPole-v0\n"
     ]
    },
    {
     "name": "stdout",
     "output_type": "stream",
     "text": [
      "  1 mean_train_r:  35.73 mean_val_r: 188.00 loss: 28.068041\n",
      "  2 mean_train_r:  35.68 mean_val_r:  97.20 loss: 16.444902\n",
      "  3 mean_train_r:  36.37 mean_val_r: 168.90 loss: 14.422903\n",
      "  4 mean_train_r:  34.84 mean_val_r: 280.80 loss: 13.587684\n",
      "  5 mean_train_r:  35.81 mean_val_r: 121.10 loss: 15.716883\n",
      "  6 mean_train_r:  34.63 mean_val_r: 162.60 loss: 14.328050\n",
      "  7 mean_train_r:  36.24 mean_val_r: 198.60 loss: 41.342733\n",
      "  8 mean_train_r:  37.41 mean_val_r: 189.30 loss: 22.866348\n",
      "  9 mean_train_r:  35.67 mean_val_r: 239.00 loss: 134.231514\n",
      " 10 mean_train_r:  34.82 mean_val_r: 217.70 loss: 13.959138\n",
      " 11 mean_train_r:  36.44 mean_val_r: 178.40 loss: 97.290498\n",
      " 12 mean_train_r:  37.05 mean_val_r: 235.50 loss: 20.909477\n",
      " 13 mean_train_r:  33.52 mean_val_r: 198.70 loss: 13.864835\n",
      " 14 mean_train_r:  36.11 mean_val_r: 163.90 loss: 62.334436\n",
      " 15 mean_train_r:  33.23 mean_val_r: 206.10 loss: 15.832184\n",
      " 16 mean_train_r:  34.38 mean_val_r: 191.10 loss: 38.084228\n",
      " 17 mean_train_r:  34.07 mean_val_r: 202.60 loss: 18.382917\n",
      " 18 mean_train_r:  35.98 mean_val_r: 190.90 loss: 67.089333\n",
      " 19 mean_train_r:  36.06 mean_val_r: 215.00 loss: 15.797143\n",
      " 20 mean_train_r:  34.70 mean_val_r: 270.90 loss: 20.364384\n",
      " 21 mean_train_r:  34.80 mean_val_r: 300.00 loss: 19.697087\n",
      " 22 mean_train_r:  32.99 mean_val_r: 300.00 loss: 14.880508\n",
      " 23 mean_train_r:  35.06 mean_val_r: 300.00 loss: 17.390169\n",
      " 24 mean_train_r:  34.58 mean_val_r: 300.00 loss: 19.752707\n",
      " 25 mean_train_r:  33.34 mean_val_r: 300.00 loss: 53.890619\n"
     ]
    }
   ],
   "source": [
    "# init environment\n",
    "env = gym.make('CartPole-v0')\n",
    "# init agent\n",
    "agent = Agent(n_inputs=env.observation_space.shape[0],\n",
    "              n_outputs=env.action_space.n)\n",
    "traj_t = 300#env.spec.timestep_limit\n",
    "# train agent on the environment\n",
    "### Default params: n_epochs=100, learning_rate=0.05, \n",
    "### discount_factor=1, t_per_batch=10000, \n",
    "### traj_t_limit=env.spec.timestep_limit, n_early_stop=5\n",
    "agent.learn(env, n_epochs=100, learning_rate=0.00091, discount_factor=1.05,\n",
    "            t_per_batch=20000, traj_t_limit=traj_t, n_early_stop=5)"
   ]
  },
  {
   "cell_type": "code",
   "execution_count": 97,
   "metadata": {
    "collapsed": false
   },
   "outputs": [
    {
     "data": {
      "image/png": "[encoded data removed]",
      "text/plain": [
       "<matplotlib.figure.Figure at 0x7f279adf19d0>"
      ]
     },
     "metadata": {},
     "output_type": "display_data"
    }
   ],
   "source": [
    "# plot training and validation mean reward\n",
    "plt.figure(figsize=(10,5))\n",
    "plt.xlabel('epochs'); plt.ylabel('mean reward')\n",
    "plt.plot(agent.mean_train_rs, label='training')\n",
    "plt.plot(agent.mean_val_rs, label='validation')\n",
    "plt.xlim((0,len(agent.mean_val_rs)-1))\n",
    "plt.legend(loc=2); plt.grid()\n",
    "_=plt.show()"
   ]
  },
  {
   "cell_type": "code",
   "execution_count": 91,
   "metadata": {
    "collapsed": false
   },
   "outputs": [],
   "source": [
    "# review solution\n",
    "agent.get_trajectory(env, t_limit=1000, render=True)\n",
    "env.render(close=True)"
   ]
  },
  {
   "cell_type": "markdown",
   "metadata": {},
   "source": [
    "The initial solution does not learn to solve the task very well. Here are some hints on how to improve the solution:\n",
    "\n",
    "* Increase the trajectory timestep limit to let the simulations look further into the future.\n",
    "* Increase number of timesteps evaluated per batch.\n",
    "* Try different optimization functions.\n",
    "* Adjust the learning rate.\n",
    "* Adjust the discount factor.\n",
    "\n",
    "### Exercises\n",
    "\n",
    "1. Describe the changes you made and and why they should improve the agent. Are you able to get solutions consistently?\n",
    "2. In the plot above you will sometimes see that the validation reward starts out lower than the training reward but later they cross. How can you explain this behavior?\n",
    "3. Explain step by step the algorithm in the `agent.learn` method with particular attention the points denoted 1-5 in the code above.\n",
    "4. Optional: Monitor and submit your best solution to the Gym (see code below).\n",
    "\n",
    "### Answers\n",
    "1. \n",
    "    - Changed from sgd to Adam to gain benefit of momentum, hopefully avoiding local minima. Reduced learning rate as well.\n",
    "    - Added a dropout layer after the hidden layer to reduce overfitting.\n",
    "    - Changed traj_t to allow the network to look further ahead. My reasoning was that training on 200 timesteps (default) and generalizing to 1000 is harder than training on 500 and generalizing to 1000.\n",
    "    - Doubled t_per_batch to allow more simulated trajectories.\n",
    "    - Reduced discount factor below 1 to put more weight on early actions. The reason being that if the system never destabilizes the pole too much it will be easier to balance indefinitely. \n",
    "    - Increased discount above 1 to put more weight on later actions, making the system able to better correct itself to stabilize the pole not matter how many timesteps have elapsed.\n",
    "    - Decreased learning rate further. Finally began to see somewhat consistent results wrt the valid rewards, but it still cannot consistently solve the task.\n",
    "2. When the network is really bad the validation actions, which are always the most likely, will consistently be the wrong actions. Even when the network is really bad, the train actions have a chance to be the right ones because of its semi-random action decision.\n",
    "When the network starts to improve, the validation actions will now move closer to the right actions at each step, while the train actions retain their chance to pick something that is against the most likely one (the unlikely one now moving towards being the wrong ones). This means that as the network improves we will see a greater reward for validation actions as they approach the right actions to take at any given time.\n",
    "3. See comments in code above"
   ]
  },
  {
   "cell_type": "code",
   "execution_count": null,
   "metadata": {
    "collapsed": false
   },
   "outputs": [],
   "source": [
    "# start monitor\n",
    "#env.monitor.start('cartpole-experiment-1')\n",
    "#for _ in xrange(100):\n",
    "#    agent.get_trajectory(env)\n",
    "#env.monitor.close()"
   ]
  },
  {
   "cell_type": "markdown",
   "metadata": {},
   "source": [
    "When you have monitored a solution open a Python shell and use the following command to upload the results to OpenAI Gym:\n",
    "\n",
    "```\n",
    "import gym\n",
    "gym.upload('cartpole-experiment-1', api_key='YOUR_API_KEY')\n",
    "```\n",
    "\n",
    "You can also run the command here in the notebook, but remember to remove the API key before handing in the exercise.\n",
    "\n",
    "You can find your API key at your [OpenAI Gym](https://gym.openai.com/) account page. "
   ]
  },
  {
   "cell_type": "markdown",
   "metadata": {},
   "source": [
    "## 3. Playground\n",
    "\n",
    "In this part you can try to learn a solution to an environment from [OpenAI Gym](https://gym.openai.com/) of your own choice. Some environments will require you to adjust the agent code since they have different properties, however, some environments such as 'Acrobot-v1' and 'MountainCar-v0' should work out of the box.\n",
    "\n",
    "Below is some code to get you started.\n",
    "\n",
    "### Exercises\n",
    "\n",
    "1. Describe the environment you have chosen including its state and action space.\n",
    "2. Describe the particular challanges of the environment you have chosen.\n",
    "3. Were you able to train a good solution? How/why not?\n",
    "4. Optional: Monitor and submit your solution to the Gym.\n",
    "\n",
    "### Answers\n",
    "After spending a long time getting stable results on the first part of the assignment, I did not have the time to try this."
   ]
  },
  {
   "cell_type": "code",
   "execution_count": null,
   "metadata": {
    "collapsed": true
   },
   "outputs": [],
   "source": [
    "# init environment\n",
    "#my_env = gym.make('some-environment')\n",
    "# init agent\n",
    "#my_agent = Agent(n_inputs=my_env.observation_space.shape[0],\n",
    "#              n_outputs=my_env.action_space.n)\n",
    "# train agent on the environment\n",
    "#my_agent.learn(my_env)"
   ]
  },
  {
   "cell_type": "code",
   "execution_count": null,
   "metadata": {
    "collapsed": true
   },
   "outputs": [],
   "source": [
    "# plot training and validation mean reward\n",
    "#plt.figure(figsize=(10,5))\n",
    "#plt.xlabel('epochs'); plt.ylabel('mean reward')\n",
    "#plt.plot(my_agent.mean_train_rs, label='training')\n",
    "#plt.plot(my_agent.mean_val_rs, label='validation')\n",
    "#plt.xlim((0,len(my_agent.mean_val_rs)-1))\n",
    "#plt.legend(loc=2); plt.grid()\n",
    "#_=plt.show()"
   ]
  },
  {
   "cell_type": "code",
   "execution_count": null,
   "metadata": {
    "collapsed": true
   },
   "outputs": [],
   "source": [
    "# review solution\n",
    "#my_agent.get_trajectory(my_env, t_limit=1000, render=True)\n",
    "#my_env.render(close=True)"
   ]
  },
  {
   "cell_type": "markdown",
   "metadata": {},
   "source": [
    "## 4. Optional exercises\n",
    "\n",
    "1. Optional: Extend the agent to also work on environments with a continous action space."
   ]
  }
 ],
 "metadata": {
  "anaconda-cloud": {},
  "kernelspec": {
   "display_name": "Python [Root]",
   "language": "python",
   "name": "Python [Root]"
  },
  "language_info": {
   "codemirror_mode": {
    "name": "ipython",
    "version": 2
   },
   "file_extension": ".py",
   "mimetype": "text/x-python",
   "name": "python",
   "nbconvert_exporter": "python",
   "pygments_lexer": "ipython2",
   "version": "2.7.12"
  }
 },
 "nbformat": 4,
 "nbformat_minor": 0
}
